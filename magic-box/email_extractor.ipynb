{
 "metadata": {
  "name": ""
 },
 "nbformat": 3,
 "nbformat_minor": 0,
 "worksheets": [
  {
   "cells": [
    {
     "cell_type": "code",
     "collapsed": false,
     "input": [
      "import imaplib\n",
      "import email"
     ],
     "language": "python",
     "metadata": {},
     "outputs": [],
     "prompt_number": 38
    },
    {
     "cell_type": "code",
     "collapsed": false,
     "input": [
      "mail = imaplib.IMAP4_SSL('imap.gmail.com')\n",
      "mail.login('manavm@utexas.edu', 'meatut2015')\n",
      "mail.list()\n",
      "# Out: list of \"folders\" aka labels in gmail.\n",
      "mail.select(\"inbox\") # connect to inbox."
     ],
     "language": "python",
     "metadata": {},
     "outputs": [
      {
       "metadata": {},
       "output_type": "pyout",
       "prompt_number": 39,
       "text": [
        "('OK', ['31200'])"
       ]
      }
     ],
     "prompt_number": 39
    },
    {
     "cell_type": "code",
     "collapsed": false,
     "input": [
      "result, data = mail.uid('search', None, '(HEADER Subject \"Amazon.com order\")') # search and return uids instead\n",
      "email_list = data[0].split()\n",
      "print len(email_list)\n",
      "for i in email_list[len(email_list)-20:]:\n",
      "    result, data = mail.uid('fetch', i, '(RFC822)')\n",
      "    raw_email = data[0][1]\n",
      "    email_message = email.message_from_string(raw_email)\n",
      "    print email.utils.parseaddr(email_message['From'])\n",
      "# latest_email_uid = data[0].split()[-1]\n",
      "# result, data = mail.uid('fetch', latest_email_uid, '(RFC822)')\n",
      "# raw_email = data[0][1]"
     ],
     "language": "python",
     "metadata": {},
     "outputs": [
      {
       "output_type": "stream",
       "stream": "stdout",
       "text": [
        "116\n",
        "('auto-confirm@amazon.com', 'auto-confirm@amazon.com')"
       ]
      },
      {
       "output_type": "stream",
       "stream": "stdout",
       "text": [
        "\n",
        "('auto-confirm@amazon.com', 'auto-confirm@amazon.com')"
       ]
      },
      {
       "output_type": "stream",
       "stream": "stdout",
       "text": [
        "\n",
        "('Amazon.com', 'ship-confirm@amazon.com')"
       ]
      },
      {
       "output_type": "stream",
       "stream": "stdout",
       "text": [
        "\n",
        "('Amazon.com', 'order-update@amazon.com')"
       ]
      },
      {
       "output_type": "stream",
       "stream": "stdout",
       "text": [
        "\n",
        "('auto-confirm@amazon.com', 'auto-confirm@amazon.com')"
       ]
      },
      {
       "output_type": "stream",
       "stream": "stdout",
       "text": [
        "\n",
        "('auto-confirm@amazon.com', 'auto-confirm@amazon.com')"
       ]
      },
      {
       "output_type": "stream",
       "stream": "stdout",
       "text": [
        "\n",
        "('auto-confirm@amazon.com', 'auto-confirm@amazon.com')"
       ]
      },
      {
       "output_type": "stream",
       "stream": "stdout",
       "text": [
        "\n",
        "('Amazon.com', 'ship-confirm@amazon.com')"
       ]
      },
      {
       "output_type": "stream",
       "stream": "stdout",
       "text": [
        "\n",
        "('Amazon.com', 'ship-confirm@amazon.com')"
       ]
      },
      {
       "output_type": "stream",
       "stream": "stdout",
       "text": [
        "\n",
        "('Amazon.com', 'ship-confirm@amazon.com')"
       ]
      },
      {
       "output_type": "stream",
       "stream": "stdout",
       "text": [
        "\n",
        "('Amazon.com', 'order-update@amazon.com')"
       ]
      },
      {
       "output_type": "stream",
       "stream": "stdout",
       "text": [
        "\n",
        "('auto-confirm@amazon.com', 'auto-confirm@amazon.com')"
       ]
      },
      {
       "output_type": "stream",
       "stream": "stdout",
       "text": [
        "\n",
        "('Amazon.com', 'ship-confirm@amazon.com')"
       ]
      },
      {
       "output_type": "stream",
       "stream": "stdout",
       "text": [
        "\n",
        "('auto-confirm@amazon.com', 'auto-confirm@amazon.com')"
       ]
      },
      {
       "output_type": "stream",
       "stream": "stdout",
       "text": [
        "\n",
        "('Amazon.com', 'ship-confirm@amazon.com')"
       ]
      },
      {
       "output_type": "stream",
       "stream": "stdout",
       "text": [
        "\n",
        "('auto-confirm@amazon.com', 'auto-confirm@amazon.com')"
       ]
      },
      {
       "output_type": "stream",
       "stream": "stdout",
       "text": [
        "\n",
        "('Amazon.com', 'ship-confirm@amazon.com')"
       ]
      },
      {
       "output_type": "stream",
       "stream": "stdout",
       "text": [
        "\n",
        "('Amazon.com', 'digital-no-reply@amazon.com')"
       ]
      },
      {
       "output_type": "stream",
       "stream": "stdout",
       "text": [
        "\n",
        "('auto-confirm@amazon.com', 'auto-confirm@amazon.com')"
       ]
      },
      {
       "output_type": "stream",
       "stream": "stdout",
       "text": [
        "\n",
        "('Amazon.com', 'ship-confirm@amazon.com')"
       ]
      },
      {
       "output_type": "stream",
       "stream": "stdout",
       "text": [
        "\n"
       ]
      }
     ],
     "prompt_number": 48
    },
    {
     "cell_type": "code",
     "collapsed": false,
     "input": [
      "email_message = email.message_from_string(raw_email)\n",
      " \n",
      "print email_message['To']\n",
      " \n",
      "print email.utils.parseaddr(email_message['From']) # for parsing \"Yuji Tomita\" <yuji@grovemade.com>\n",
      " \n",
      "print email_message.items() # print all headers\n",
      " \n",
      "# note that if you want to get text content (body) and the email contains\n",
      "# multiple payloads (plaintext/ html), you must parse each message separately.\n",
      "# use something like the following: (taken from a stackoverflow post)\n",
      "def get_first_text_block(self, email_message_instance):\n",
      "    maintype = email_message_instance.get_content_maintype()\n",
      "    if maintype == 'multipart':\n",
      "        for part in email_message_instance.get_payload():\n",
      "            if part.get_content_maintype() == 'text':\n",
      "                return part.get_payload()\n",
      "    elif maintype == 'text':\n",
      "        return email_message_instance.get_payload()"
     ],
     "language": "python",
     "metadata": {},
     "outputs": [
      {
       "output_type": "stream",
       "stream": "stdout",
       "text": [
        "\"manav.mandhani@gmail.com\" <manav.mandhani@gmail.com>\n",
        "('Amazon Web Services', 'no-reply-aws@amazon.com')\n",
        "[('Delivered-To', 'manav.mandhani@gmail.com'), ('Received', 'by 10.64.224.198 with SMTP id re6csp916461iec;\\r\\n        Tue, 3 Mar 2015 11:23:16 -0800 (PST)'), ('X-Received', 'by 10.140.236.151 with SMTP id h145mr684646qhc.9.1425410596129;\\r\\n        Tue, 03 Mar 2015 11:23:16 -0800 (PST)'), ('Return-Path', '<20150303192314e139ceb883a24f148c67c253154be18d@bounces.amazon.com>'), ('Received', 'from a13-4.smtp-out.amazonses.com (a13-4.smtp-out.amazonses.com. [54.240.13.4])\\r\\n        by mx.google.com with ESMTPS id z32si1445741qgd.1.2015.03.03.11.23.15\\r\\n        for <manav.mandhani@gmail.com>\\r\\n        (version=TLSv1 cipher=ECDHE-RSA-RC4-SHA bits=128/128);\\r\\n        Tue, 03 Mar 2015 11:23:16 -0800 (PST)'), ('Received-SPF', 'pass (google.com: domain of 20150303192314e139ceb883a24f148c67c253154be18d@bounces.amazon.com designates 54.240.13.4 as permitted sender) client-ip=54.240.13.4;'), ('Authentication-Results', 'mx.google.com;\\r\\n       spf=pass (google.com: domain of 20150303192314e139ceb883a24f148c67c253154be18d@bounces.amazon.com designates 54.240.13.4 as permitted sender) smtp.mail=20150303192314e139ceb883a24f148c67c253154be18d@bounces.amazon.com;\\r\\n       dkim=pass header.i=@amazon.com;\\r\\n       dmarc=pass (p=QUARANTINE dis=NONE) header.from=amazon.com'), ('DKIM-Signature', 'v=1; a=rsa-sha256; q=dns/txt; c=relaxed/simple;\\r\\n\\ts=224i4yxa5dv7c2xz3womw6peuasteono; d=amazonses.com; t=1425410594;\\r\\n\\th=Date:From:To:Message-ID:Subject:MIME-Version:Content-Type:Feedback-ID;\\r\\n\\tbh=YDM9+z5B7LI78jR1n2S1ueU0FO65N1E+NnToQPh5xCg=;\\r\\n\\tb=PkJBfOGR73oydJjJz5Z3d/XjwLFpkFzjZtB12Zac5qUOn7gbP4VNGCsCu9Hk+7j8\\r\\n\\t5UCqOYhhiAPjWRGEKcUmoDiJSgPyU6SKGNkHlhSPlAzpg/EwM+IAx/4zFrvWh7YpTK+\\r\\n\\tbmLhhW5zCAigW7pD00PjmZbgy/TEQ1YnLFetzRXI='), ('DKIM-Signature', 'v=1; a=rsa-sha256; q=dns/txt; c=relaxed/simple;\\r\\n\\ts=yg4mwqurec7fkhzutopddd3ytuaqrvuz; d=amazon.com; t=1425410594;\\r\\n\\th=Date:From:To:Message-ID:Subject:MIME-Version:Content-Type;\\r\\n\\tbh=YDM9+z5B7LI78jR1n2S1ueU0FO65N1E+NnToQPh5xCg=;\\r\\n\\tb=RUzMBhIJLTMy52r+GwrN6NH15SglwGmTvrLobM90VOmxIpUSARVz28lbY7gTCzQK\\r\\n\\t35dk+f9W0PA5uVgLXqoYVDI5uzafSWW70Irf+ZdDEhuenKItkHndbSqxnExY/hqIcVk\\r\\n\\tP8Yg9vCAwqbeSzWhsMKgQeH26Hl4PjOlLtstvmlc='), ('Date', 'Tue, 3 Mar 2015 19:23:14 +0000'), ('From', 'Amazon Web Services <no-reply-aws@amazon.com>'), ('To', '\"manav.mandhani@gmail.com\" <manav.mandhani@gmail.com>'), ('Message-ID', '<0000014be117980e-b37a04a1-1ccd-4c66-ac40-632867bfe752-000000@email.amazonses.com>'), ('Subject', 'Amazon Web Services Billing Statement Available'), ('MIME-Version', '1.0'), ('Content-Type', 'multipart/mixed; \\r\\n\\tboundary=\"----=_Part_1048856_1295209885.1425410594784\"'), ('Bounces-to', '20150303192314e139ceb883a24f148c67c253154be18d@bounces.amazon.com'), ('X-AMAZON-MAIL-RELAY-TYPE', 'notification'), ('X-AMAZON-RTE-VERSION', '2.0'), ('X-Original-MessageID', '<urn.correios.msg.20150303192314e139ceb883a24f148c67c253154be18d@1425410594785.rte-svc-1c-m3-i-0f7fb3e6.us-east-1.amazon.com>'), ('X-SES-Outgoing', '2015.03.03-54.240.13.4'), ('Feedback-ID', '1.us-east-1.ZHcGJK6s+x+i9lRHKog4RW3tECwWIf1xzTYCZyUaiec=:AmazonSES')]\n"
       ]
      }
     ],
     "prompt_number": 16
    },
    {
     "cell_type": "code",
     "collapsed": false,
     "input": [],
     "language": "python",
     "metadata": {},
     "outputs": []
    }
   ],
   "metadata": {}
  }
 ]
}